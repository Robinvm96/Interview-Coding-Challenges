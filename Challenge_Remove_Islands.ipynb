{
 "cells": [
  {
   "cell_type": "code",
   "execution_count": null,
   "metadata": {},
   "outputs": [],
   "source": [
    "\"\"\"Task:\n",
    "You have an nxn array consisting out of 0s and 1s. The 1s represent land while the 0s represent water.\n",
    "A central 1 that is horizontally or vertically connected to the edge of the array is referred as mainland.\n",
    "Central 1s that has no horizontally or vertically connection to the edge of the array are called Islands.\n",
    "\n",
    "The Challenge will be to replace all the islands with 0.\n",
    "\n",
    "Example Input:\n",
    " [0 0 1 0 0 1 0 1 1 0]\n",
    " [0 0 1 0 0 1 1 1 1 1]\n",
    " [1 0 1 1 0 1 1 1 0 1]\n",
    " [0 0 1 1 1 1 1 1 0 1]\n",
    " [1 1 0 0 0 1 1 1 0 0]\n",
    " [0 1 0 1 1 0 0 0 0 1]\n",
    " [1 0 0 0 0 1 0 1 1 1]\n",
    " [0 1 0 1 1 0 1 1 1 1]\n",
    " [0 1 1 1 0 1 0 0 0 1]\n",
    " [1 0 1 0 0 0 0 0 0 1]\n",
    "\n",
    " Example Output:\n",
    " [0 0 1 0 0 1 0 1 1 0]\n",
    " [0 0 1 0 0 1 1 1 1 1]\n",
    " [1 0 1 1 0 1 1 1 0 1]\n",
    " [0 0 1 1 1 1 1 1 0 1]\n",
    " [1 1 0 0 0 1 1 1 0 0]\n",
    " [0 1 0 0 0 0 0 0 0 1]\n",
    " [1 0 0 0 0 0 0 1 1 1]\n",
    " [0 0 0 1 1 0 1 1 1 1]\n",
    " [0 0 1 1 0 0 0 0 0 1]\n",
    " [1 0 1 0 0 0 0 0 0 1]\n",
    "\n",
    " Removed 1:\n",
    " [0 0 0 0 0 0 0 0 0 0]\n",
    " [0 0 0 0 0 0 0 0 0 0]\n",
    " [0 0 0 0 0 0 0 0 0 0]\n",
    " [0 0 0 0 0 0 0 0 0 0]\n",
    " [0 0 0 0 0 0 0 0 0 0]\n",
    " [0 0 0 1 1 0 0 0 0 0]\n",
    " [0 0 0 0 0 1 0 0 0 0]\n",
    " [0 0 0 0 0 0 0 0 0 0]\n",
    " [0 0 0 0 0 1 0 0 0 0]\n",
    " [0 0 0 0 0 0 0 0 0 0]\n",
    "\n",
    "\"\"\"\n"
   ]
  },
  {
   "cell_type": "code",
   "execution_count": 72,
   "metadata": {},
   "outputs": [],
   "source": [
    "import numpy as np\n",
    "import pandas as pd"
   ]
  },
  {
   "cell_type": "code",
   "execution_count": 169,
   "metadata": {},
   "outputs": [
    {
     "name": "stdout",
     "output_type": "stream",
     "text": [
      "   0  1  2  3  4  5  6  7  8  9\n",
      "0  1  0  1  0  1  1  1  1  0  1\n",
      "1  0  1  0  1  0  1  1  0  1  1\n",
      "2  0  0  0  0  0  0  1  1  0  1\n",
      "3  0  1  1  0  1  1  0  0  1  1\n",
      "4  1  0  0  1  0  1  1  0  0  0\n",
      "5  1  0  1  0  0  1  1  0  1  0\n",
      "6  0  1  0  0  0  1  1  0  1  1\n",
      "7  1  0  1  1  0  0  1  0  0  0\n",
      "8  1  1  0  1  1  1  0  0  0  1\n",
      "9  1  1  1  0  1  0  1  1  1  1\n"
     ]
    }
   ],
   "source": [
    "# Create the map as a DataFrame\n",
    "array = np.random.randint(2, size=(10, 10))\n",
    "map = pd.DataFrame(array)\n",
    "print(map)"
   ]
  },
  {
   "cell_type": "code",
   "execution_count": 170,
   "metadata": {},
   "outputs": [
    {
     "name": "stdout",
     "output_type": "stream",
     "text": [
      "    Row Column  value\n",
      "0     0      0      1\n",
      "1     1      0      0\n",
      "2     2      0      0\n",
      "3     3      0      0\n",
      "4     4      0      1\n",
      "..  ...    ...    ...\n",
      "95    5      9      0\n",
      "96    6      9      1\n",
      "97    7      9      0\n",
      "98    8      9      1\n",
      "99    9      9      1\n",
      "\n",
      "[100 rows x 3 columns]\n"
     ]
    }
   ],
   "source": [
    "# Create Row-Column-Coordinates for each Cell and transpose the table\n",
    "map_table = map\n",
    "map_table['Row']=map_table.index\n",
    "map_table=map_table.melt(id_vars='Row',var_name='Column')\n",
    "print(map_table)"
   ]
  },
  {
   "cell_type": "code",
   "execution_count": 177,
   "metadata": {},
   "outputs": [],
   "source": [
    "# Create several DataFrame objects:\n",
    "# - land: Contains all cells with value 1\n",
    "# - mainland: Contains all cells with value 1 that are at the edge\n",
    "# - potential_islands: Contains all cells with value 1 that do not have an immediate connection to the edge\n",
    "# - Start: A copy of mainland used in the while loop\n",
    "# - Already_Tested: DataFrame containing all cells that have already been tested, regardless of whether they are connected to a potential island or not\n",
    "land = map_table[map_table['value']==1]\n",
    "mainland = land[(land['Row']==0) | (land['Column']==0) | (land['Row']==land['Row'].max()) | (land['Column']==land['Column'].max())  ]\n",
    "\n",
    "potential_islands = land[(land['Row']!=0) & (land['Column']!=0) & (land['Row']!=land['Row'].max()) & (land['Column']!=land['Column'].max())  ]\n",
    "Start = mainland.copy()\n",
    "Already_tested = pd.DataFrame()"
   ]
  },
  {
   "cell_type": "code",
   "execution_count": 181,
   "metadata": {},
   "outputs": [
    {
     "name": "stdout",
     "output_type": "stream",
     "text": [
      "Column  0  1  2  3  4  5  6  7  8  9\n",
      "Row                                 \n",
      "0       1  0  1  0  1  1  1  1  0  1\n",
      "1       0  0  0  0  0  1  1  0  1  1\n",
      "2       0  0  0  0  0  0  1  1  0  1\n",
      "3       0  0  0  0  0  0  0  0  1  1\n",
      "4       1  0  0  0  0  0  0  0  0  0\n",
      "5       1  0  0  0  0  0  0  0  1  0\n",
      "6       0  0  0  0  0  0  0  0  1  1\n",
      "7       1  0  1  1  0  0  0  0  0  0\n",
      "8       1  1  0  1  1  1  0  0  0  1\n",
      "9       1  1  1  0  1  0  1  1  1  1\n"
     ]
    }
   ],
   "source": [
    "\"\"\" Idea:\n",
    "    1. Identify all horizontal and vertical neighbor cells of the starting cells.\n",
    "    2. (Filter out all cells that have already been checked in previous iterations - not important for the first round.)\n",
    "    3. Filter out all cells that are not included in the potential_island DataFrame.\n",
    "      --- The remaining cells are still part of the potential island and not in the mainland. ---\n",
    "    4. Remove these cells from the \"potential_islands\" status and add them to mainland.\n",
    "    5. Repeat this process with the newly added islands.\n",
    "\n",
    "    \n",
    "    \"\"\"\n",
    "\n",
    "while True:\n",
    "\n",
    "    # 1. Identify all horizontal and vertical neighbor cells of the starting cells\n",
    "    Radd1 = Start.copy()\n",
    "    Rsub1 = Start.copy()\n",
    "    Cadd1 = Start.copy()\n",
    "    Csub1 = Start.copy()\n",
    "\n",
    "    Radd1['Row']=Radd1['Row']+1\n",
    "    Rsub1['Row']=Rsub1['Row']-1\n",
    "    Cadd1['Column']=Cadd1['Column']+1\n",
    "    Csub1['Column']=Csub1['Column']-1\n",
    "\n",
    "    examine_table= pd.concat([Radd1,Rsub1,Cadd1,Csub1]).drop_duplicates()\n",
    "\n",
    "    # 2. Filter out all cells that have already been checked in previous iterations\n",
    "    examine_table=pd.concat([examine_table,Already_tested]).drop_duplicates(keep=False)\n",
    "\n",
    "    # (2 b) Update the Already_Tested DataFrame\n",
    "    Already_tested=pd.concat([examine_table,Already_tested]).drop_duplicates()\n",
    "\n",
    "    # 3. Filter out all cells that are not included in the potential_island DataFrame.\n",
    "    examine_table = pd.merge(potential_islands,examine_table,left_on=['Row','Column'],right_on=['Row','Column'],how='inner').iloc[:,:3]\n",
    "    examine_table=examine_table.rename(columns={'value_x':'value'})\n",
    "    \n",
    "    # 4. Remove these cells from the \"potential_islands\" status and add them to mainland\n",
    "    potential_islands=pd.concat([potential_islands,examine_table]).drop_duplicates(keep=False)\n",
    "    mainland=pd.concat([mainland,examine_table]).drop_duplicates()\n",
    "\n",
    "    # 5. Repeat this process with the newly added islands. Loop ends if nothing new has been found.\n",
    "    if examine_table.empty:\n",
    "        break\n",
    "    Start = examine_table\n",
    "\n",
    "# Replace the Values of potential_islands with 0 - They are actually no potential islands anymore.\n",
    "potential_islands['value']=0\n",
    "\n",
    "# combine and restructure the DataFrame so we have an array again.\n",
    "result = pd.concat([mainland,potential_islands,map_table])\n",
    "result = pd.concat([mainland,potential_islands,map_table]).drop_duplicates(subset=['Row','Column'],keep='first')\n",
    "result = result.sort_values(by='Row')\n",
    "result = result.pivot(index='Row', columns='Column', values='value')\n",
    "print(result)\n"
   ]
  }
 ],
 "metadata": {
  "kernelspec": {
   "display_name": "Python 3",
   "language": "python",
   "name": "python3"
  },
  "language_info": {
   "codemirror_mode": {
    "name": "ipython",
    "version": 3
   },
   "file_extension": ".py",
   "mimetype": "text/x-python",
   "name": "python",
   "nbconvert_exporter": "python",
   "pygments_lexer": "ipython3",
   "version": "3.11.9"
  }
 },
 "nbformat": 4,
 "nbformat_minor": 2
}
