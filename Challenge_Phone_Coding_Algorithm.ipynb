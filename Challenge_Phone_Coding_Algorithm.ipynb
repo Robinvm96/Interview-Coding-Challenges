{
 "cells": [
  {
   "cell_type": "code",
   "execution_count": null,
   "metadata": {},
   "outputs": [],
   "source": [
    "\"\"\" Task:\n",
    "\n",
    "Imagine looking at the keyboard of an old phone, where each number key corresponds to a set of letters:\n",
    "\n",
    " 1    2    3\n",
    "     abc  def\n",
    "\n",
    " 4    5    6\n",
    "ghi  jkl  mno\n",
    "\n",
    " 7    8      9\n",
    "pqrs tuv   wxyz\n",
    "\n",
    "*     0      #\n",
    "\n",
    "With this setup, we can translate strings into numbers. For example, \"Robin\" translates to 76246. However, one number can represent multiple strings. \n",
    "For instance, the number 76246 could not only represent \"Robin\" but also\"pocin\".\n",
    "\n",
    "The challenge is to create an algorithm with two inputs: a number represented as a string (e.g.\"3662277\") and a list of strings (e.g. [\"foo\",\"bar\",\"baz\",\"foobar\",\"emo\",\"cap\",\"car\",\"cat\"]). \n",
    "The algorithm should find the items in the input list of strings, that can be represented by any part of the input number. (E.g. \"car\" = 227 is part of 3662277)\n",
    "\"\"\""
   ]
  },
  {
   "cell_type": "code",
   "execution_count": 32,
   "metadata": {},
   "outputs": [
    {
     "name": "stdout",
     "output_type": "stream",
     "text": [
      "['foo', 'bar', 'foobar', 'emo', 'cap', 'car']\n"
     ]
    }
   ],
   "source": [
    "def contained_strings(number:str,words:list[str]):\n",
    "    # Create a Dictionary that converts the letters to a number\n",
    "    lowercase_dic = {\"a\":\"2\",\"b\":\"2\",\"c\":\"2\",\n",
    "       \"d\":\"3\",\"e\":\"3\",\"f\":\"3\",\n",
    "       \"g\":\"4\",\"h\":\"4\",\"i\":\"4\",\n",
    "       \"j\":\"5\",\"k\":\"5\",\"l\":\"5\",\n",
    "       \"m\":\"6\",\"n\":\"6\",\"o\":\"6\",\n",
    "       \"p\":\"7\",\"q\":\"7\",\"r\":\"7\",\"s\":\"7\",\n",
    "       \"t\":\"8\",\"u\":\"8\",\"v\":\"8\",\n",
    "       \"w\":\"9\",\"x\":\"9\",\"y\":\"9\",\"z\":\"9\"}\n",
    "    \n",
    "    uppercase_dic = {key.upper():value for key,value in lowercase_dic.items()}\n",
    "\n",
    "    # Uses maketrans to create a translation table for use in the translate function.\n",
    "    LC_Dictionary_Table=str.maketrans(lowercase_dic)\n",
    "    UC_Dictionary_Table=str.maketrans(uppercase_dic)\n",
    "\n",
    "    #Create an empty list for the results.\n",
    "    result=[]\n",
    "\n",
    "    # Iterates through each string in the list. Converts the string into a number. If the number is present in the given number string, appends the string to the result list; otherwise, removes it.\n",
    "    for i in words:\n",
    "        i_number=i.translate(LC_Dictionary_Table)\n",
    "        i_number=i_number.translate(UC_Dictionary_Table)\n",
    "        if i_number in number:\n",
    "            result.append(i)\n",
    "    \n",
    "    return result\n",
    "\n",
    "x = contained_strings(\"3662277\",[\"foo\",\"bar\",\"baz\",\"foobar\",\"emo\",\"cap\",\"car\",\"cat\"])\n",
    "print(x)"
   ]
  }
 ],
 "metadata": {
  "kernelspec": {
   "display_name": "Python 3",
   "language": "python",
   "name": "python3"
  },
  "language_info": {
   "codemirror_mode": {
    "name": "ipython",
    "version": 3
   },
   "file_extension": ".py",
   "mimetype": "text/x-python",
   "name": "python",
   "nbconvert_exporter": "python",
   "pygments_lexer": "ipython3",
   "version": "3.11.9"
  }
 },
 "nbformat": 4,
 "nbformat_minor": 2
}
